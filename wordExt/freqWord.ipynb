{
 "cells": [
  {
   "cell_type": "code",
   "execution_count": 1,
   "metadata": {},
   "outputs": [],
   "source": [
    "def freq(document):\n",
    "    \n",
    "    wordCount=0\n",
    "    distribution={}\n",
    "    \n",
    "    for word in document:\n",
    "        \n",
    "        wordCount +=1\n",
    "        \n",
    "        if word in distribution:\n",
    "            distribution[word] += 1\n",
    "        else:\n",
    "            distribution[word] = 1\n",
    "    return {'wordCount':wordCount,'distribution':distribution}"
   ]
  },
  {
   "cell_type": "code",
   "execution_count": 2,
   "metadata": {},
   "outputs": [],
   "source": [
    "def merge(distributions):\n",
    "    \n",
    "    mergeDistribution={'wordCount':0,'distribution':{}}\n",
    "    \n",
    "    for subDistribution in distributions:\n",
    "        \n",
    "        mergeDistribution['wordCount'] += subDistribution['wordCount']\n",
    "        \n",
    "        for word in subDistribution['distribution']:\n",
    "            \n",
    "            if word in mergeDistribution['distribution']:\n",
    "                mergeDistribution['distribution'][word] += subDistribution['distribution'][word]\n",
    "            else:\n",
    "                mergeDistribution['distribution'][word] = subDistribution['distribution'][word]\n",
    "    return mergeDistribution"
   ]
  },
  {
   "cell_type": "code",
   "execution_count": null,
   "metadata": {},
   "outputs": [],
   "source": []
  }
 ],
 "metadata": {
  "kernelspec": {
   "display_name": "Python 3",
   "language": "python",
   "name": "python3"
  },
  "language_info": {
   "codemirror_mode": {
    "name": "ipython",
    "version": 3
   },
   "file_extension": ".py",
   "mimetype": "text/x-python",
   "name": "python",
   "nbconvert_exporter": "python",
   "pygments_lexer": "ipython3",
   "version": "3.6.5"
  }
 },
 "nbformat": 4,
 "nbformat_minor": 2
}
